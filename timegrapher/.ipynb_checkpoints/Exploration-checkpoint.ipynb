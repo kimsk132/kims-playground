{
 "cells": [
  {
   "cell_type": "code",
   "execution_count": 1,
   "metadata": {},
   "outputs": [],
   "source": [
    "import sounddevice as sd\n",
    "from scipy.io.wavfile import write, read\n",
    "import numpy as np\n",
    "import matplotlib.pyplot as plt"
   ]
  },
  {
   "cell_type": "code",
   "execution_count": 2,
   "metadata": {},
   "outputs": [],
   "source": [
    "fs = 44100  # Sample rate\n",
    "seconds = 10  # Duration of recording\n",
    "# Channel L = index 0\n",
    "# Channel R = index 1\n",
    "\n",
    "myrecording = sd.rec(int(seconds * fs), samplerate=fs, channels=2)\n",
    "sd.wait()  # Wait until recording is finished\n",
    "write('output.wav', fs, myrecording)  # Save as WAV file \n",
    "\n"
   ]
  },
  {
   "cell_type": "code",
   "execution_count": 3,
   "metadata": {},
   "outputs": [
    {
     "data": {
      "image/png": "[encoded data removed]",
      "text/plain": [
       "<Figure size 432x288 with 1 Axes>"
      ]
     },
     "metadata": {
      "needs_background": "light"
     },
     "output_type": "display_data"
    }
   ],
   "source": [
    "my_sound = myrecording[fs:,1]\n",
    "plt.figure()\n",
    "plt.plot(my_sound)\n",
    "plt.show()"
   ]
  },
  {
   "cell_type": "code",
   "execution_count": 4,
   "metadata": {},
   "outputs": [],
   "source": [
    "# Count number of ticks in the recording,\n",
    "# assuming that each tick lasts less than 1000 samples\n",
    "# (Interval of 0.1 seconds (10 Hz) is 4410 samples)\n",
    "def count_ticks(sound, threshold):\n",
    "    count = 0\n",
    "    i = 0\n",
    "    while i < len(sound):\n",
    "        sample = sound[i]\n",
    "        if sample > threshold:\n",
    "            count += 1\n",
    "            i += 1000\n",
    "        else:\n",
    "            i += 1\n",
    "    return count"
   ]
  },
  {
   "cell_type": "code",
   "execution_count": 5,
   "metadata": {},
   "outputs": [],
   "source": [
    "# Returns the index of the first peak\n",
    "def find_first_peak(sound, threshold):\n",
    "    peak_val = threshold\n",
    "    max_i = None\n",
    "    i = 0\n",
    "    while i < len(sound):\n",
    "        sample = sound[i]\n",
    "        if sample > threshold:\n",
    "            peak_val = max(sound[i:i+1000])\n",
    "            return np.where(sound==peak_val)[0][0]\n",
    "        else:\n",
    "            i += 1\n",
    "    return max_i\n",
    "\n",
    "# Returns the index of the last peak\n",
    "def find_last_peak(sound, threshold):\n",
    "    i = len(sound) - 1\n",
    "    max_i = None\n",
    "    peak_val = threshold\n",
    "    while i >= 0:\n",
    "        sample = sound[i]\n",
    "        if sample > threshold:\n",
    "            peak_val = max(sound[i-1000:i])\n",
    "            return np.where(sound==peak_val)[0][0]\n",
    "        else:\n",
    "            i -= 1\n",
    "    return max_i"
   ]
  },
  {
   "cell_type": "code",
   "execution_count": 6,
   "metadata": {},
   "outputs": [],
   "source": [
    "def find_threshold(sound, target_freq=6):\n",
    "    # Perform binary search on threshold until we get within 5% of target freq\n",
    "    upper_thresh = 1\n",
    "    lower_thresh = 0\n",
    "    thresh = 0.5\n",
    "    last_freq = -1\n",
    "    trimmed = sound[find_first_peak(sound, thresh):find_last_peak(sound, thresh)]\n",
    "    if len(trimmed)/fs <= 1:\n",
    "        return 0\n",
    "    stuck = 0\n",
    "    while stuck < 3:\n",
    "        freq = (count_ticks(trimmed, thresh) - 1) / (len(trimmed)/fs)\n",
    "        if freq > target_freq:\n",
    "            if abs(freq - target_freq) > abs(last_freq - target_freq):\n",
    "                # If the previous answer was better, then return the previous answer\n",
    "                return thresh * 2\n",
    "            thresh = (thresh + upper_thresh) / 2\n",
    "            lower_thresh = thresh\n",
    "        elif freq <= target_freq:\n",
    "            if abs(freq - target_freq) > abs(last_freq - target_freq):\n",
    "                # If the previous answer was better, then return the previous answer\n",
    "                return thresh / 2\n",
    "            thresh = (lower_thresh + thresh) / 2\n",
    "            upper_thresh = thresh\n",
    "        # If we didn't make a progress, then increase stuck counter\n",
    "        # Otherwise reset the stuck counter\n",
    "        if abs(freq - last_freq) <= 0.0001:\n",
    "            stuck += 1\n",
    "        else:\n",
    "            stuck = 0\n",
    "        last_freq = freq\n",
    "    return thresh"
   ]
  },
  {
   "cell_type": "code",
   "execution_count": 7,
   "metadata": {},
   "outputs": [
    {
     "data": {
      "text/plain": [
       "2976"
      ]
     },
     "execution_count": 7,
     "metadata": {},
     "output_type": "execute_result"
    }
   ],
   "source": [
    "# Expect 3000 ish\n",
    "thresh = find_threshold(my_sound)\n",
    "first = find_first_peak(my_sound, thresh)\n",
    "first"
   ]
  },
  {
   "cell_type": "code",
   "execution_count": 8,
   "metadata": {},
   "outputs": [
    {
     "data": {
      "text/plain": [
       "0.0625"
      ]
     },
     "execution_count": 8,
     "metadata": {},
     "output_type": "execute_result"
    }
   ],
   "source": [
    "thresh"
   ]
  },
  {
   "cell_type": "code",
   "execution_count": 9,
   "metadata": {},
   "outputs": [
    {
     "data": {
      "text/plain": [
       "392534"
      ]
     },
     "execution_count": 9,
     "metadata": {},
     "output_type": "execute_result"
    }
   ],
   "source": [
    "last = find_last_peak(my_sound, thresh)\n",
    "last"
   ]
  },
  {
   "cell_type": "code",
   "execution_count": 10,
   "metadata": {},
   "outputs": [
    {
     "data": {
      "image/png": "[encoded data removed]",
      "text/plain": [
       "<Figure size 432x288 with 1 Axes>"
      ]
     },
     "metadata": {
      "needs_background": "light"
     },
     "output_type": "display_data"
    }
   ],
   "source": [
    "plt.figure()\n",
    "plt.plot(my_sound[first:last])\n",
    "plt.show()"
   ]
  },
  {
   "cell_type": "code",
   "execution_count": 11,
   "metadata": {},
   "outputs": [
    {
     "data": {
      "text/plain": [
       "54"
      ]
     },
     "execution_count": 11,
     "metadata": {},
     "output_type": "execute_result"
    }
   ],
   "source": [
    "trimmed = my_sound[first:last]\n",
    "count_ticks(trimmed, thresh)"
   ]
  },
  {
   "cell_type": "code",
   "execution_count": 12,
   "metadata": {},
   "outputs": [],
   "source": [
    "freq = (count_ticks(trimmed, thresh) - 1) / (len(trimmed)/fs)"
   ]
  },
  {
   "cell_type": "code",
   "execution_count": 13,
   "metadata": {},
   "outputs": [
    {
     "data": {
      "text/plain": [
       "5.999876783431478"
      ]
     },
     "execution_count": 13,
     "metadata": {},
     "output_type": "execute_result"
    }
   ],
   "source": [
    "freq"
   ]
  },
  {
   "cell_type": "code",
   "execution_count": 14,
   "metadata": {},
   "outputs": [],
   "source": [
    "def get_beat_error(freq, target_freq=6):\n",
    "    num_seconds_a_day = 24*60*60\n",
    "    one_clock_incment = 1/target_freq\n",
    "    num_clock_seconds_a_day = freq * num_seconds_a_day * one_clock_incment\n",
    "    return num_clock_seconds_a_day - num_seconds_a_day"
   ]
  },
  {
   "cell_type": "code",
   "execution_count": 15,
   "metadata": {},
   "outputs": [
    {
     "data": {
      "text/plain": [
       "-1.7743185867147986"
      ]
     },
     "execution_count": 15,
     "metadata": {},
     "output_type": "execute_result"
    }
   ],
   "source": [
    "get_beat_error(freq, 6)"
   ]
  },
  {
   "cell_type": "code",
   "execution_count": null,
   "metadata": {},
   "outputs": [],
   "source": []
  }
 ],
 "metadata": {
  "kernelspec": {
   "display_name": "Python 3",
   "language": "python",
   "name": "python3"
  },
  "language_info": {
   "codemirror_mode": {
    "name": "ipython",
    "version": 3
   },
   "file_extension": ".py",
   "mimetype": "text/x-python",
   "name": "python",
   "nbconvert_exporter": "python",
   "pygments_lexer": "ipython3",
   "version": "3.6.9"
  }
 },
 "nbformat": 4,
 "nbformat_minor": 4
}
