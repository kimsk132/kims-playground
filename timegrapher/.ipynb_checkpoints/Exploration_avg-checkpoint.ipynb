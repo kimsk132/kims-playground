{
 "cells": [
  {
   "cell_type": "code",
   "execution_count": 1,
   "metadata": {},
   "outputs": [],
   "source": [
    "import sounddevice as sd\n",
    "from scipy.io.wavfile import write, read\n",
    "import numpy as np\n",
    "import matplotlib.pyplot as plt"
   ]
  },
  {
   "cell_type": "code",
   "execution_count": 2,
   "metadata": {},
   "outputs": [],
   "source": [
    "# Count number of ticks in the recording,\n",
    "# assuming that each tick lasts less than 1000 samples\n",
    "# (Interval of 0.1 seconds (10 Hz) is 4410 samples)\n",
    "def count_ticks(sound, threshold):\n",
    "    count = 0\n",
    "    i = 0\n",
    "    while i < len(sound):\n",
    "        sample = sound[i]\n",
    "        if sample > threshold:\n",
    "            count += 1\n",
    "            i += 1000\n",
    "        else:\n",
    "            i += 1\n",
    "    return count"
   ]
  },
  {
   "cell_type": "code",
   "execution_count": 3,
   "metadata": {},
   "outputs": [],
   "source": [
    "# Returns the index of the first peak\n",
    "def find_first_peak(sound, threshold):\n",
    "    peak_val = threshold\n",
    "    max_i = None\n",
    "    i = 0\n",
    "    while i < len(sound):\n",
    "        sample = sound[i]\n",
    "        if sample > threshold:\n",
    "            peak_val = max(sound[i:i+1000])\n",
    "            return np.where(sound==peak_val)[0][0]\n",
    "        else:\n",
    "            i += 1\n",
    "    return max_i\n",
    "\n",
    "# Returns the index of the last peak\n",
    "def find_last_peak(sound, threshold):\n",
    "    i = len(sound) - 1\n",
    "    max_i = None\n",
    "    peak_val = threshold\n",
    "    while i >= 1000:\n",
    "        sample = sound[i]\n",
    "        if sample > threshold:\n",
    "            peak_val = max(sound[i-1000:i])\n",
    "            return np.where(sound==peak_val)[0][0]\n",
    "        else:\n",
    "            i -= 1\n",
    "    return max_i"
   ]
  },
  {
   "cell_type": "code",
   "execution_count": 4,
   "metadata": {},
   "outputs": [],
   "source": [
    "def find_threshold(sound, target_freq=6):\n",
    "    # Perform binary search on threshold until we get within 5% of target freq\n",
    "    upper_thresh = 1\n",
    "    lower_thresh = 0\n",
    "    thresh = 0.5\n",
    "    last_freq = -1\n",
    "    trimmed = sound[find_first_peak(sound, thresh):find_last_peak(sound, thresh)]\n",
    "    if len(trimmed)/fs <= 1:\n",
    "        return 0\n",
    "    stuck = 0\n",
    "    while stuck < 3:\n",
    "        freq = (count_ticks(trimmed, thresh) - 1) / (len(trimmed)/fs)\n",
    "        if freq > target_freq:\n",
    "            if abs(freq - target_freq) > abs(last_freq - target_freq):\n",
    "                # If the previous answer was better, then return the previous answer\n",
    "                return thresh * 2\n",
    "            thresh = (thresh + upper_thresh) / 2\n",
    "            lower_thresh = thresh\n",
    "        elif freq <= target_freq:\n",
    "            if abs(freq - target_freq) > abs(last_freq - target_freq):\n",
    "                # If the previous answer was better, then return the previous answer\n",
    "                return thresh / 2\n",
    "            thresh = (lower_thresh + thresh) / 2\n",
    "            upper_thresh = thresh\n",
    "        # If we didn't make a progress, then increase stuck counter\n",
    "        # Otherwise reset the stuck counter\n",
    "        if abs(freq - last_freq) <= 0.0001:\n",
    "            stuck += 1\n",
    "        else:\n",
    "            stuck = 0\n",
    "        last_freq = freq\n",
    "    return thresh"
   ]
  },
  {
   "cell_type": "code",
   "execution_count": 5,
   "metadata": {},
   "outputs": [],
   "source": [
    "def get_beat_error(freq, target_freq=6):\n",
    "    num_seconds_a_day = 24*60*60\n",
    "    one_clock_incment = 1/target_freq\n",
    "    num_clock_seconds_a_day = freq * num_seconds_a_day * one_clock_incment\n",
    "    return num_clock_seconds_a_day - num_seconds_a_day"
   ]
  },
  {
   "cell_type": "code",
   "execution_count": 6,
   "metadata": {},
   "outputs": [],
   "source": [
    "fs = 44100  # Sample rate\n",
    "seconds = 5  # Duration of recording\n",
    "num_samples = 3 # Number of recordings to average over\n",
    "# Channel L = index 0\n",
    "# Channel R = index 1"
   ]
  },
  {
   "cell_type": "code",
   "execution_count": 7,
   "metadata": {},
   "outputs": [
    {
     "name": "stdout",
     "output_type": "stream",
     "text": [
      "Recording sample 0\n",
      "Recording sample 1\n",
      "Recording sample 2\n",
      "Done :)\n"
     ]
    }
   ],
   "source": [
    "samples = []\n",
    "for i in range(num_samples):\n",
    "    print(f\"Recording sample {i}\")\n",
    "    recording = sd.rec(int(seconds * fs), samplerate=fs, channels=2)\n",
    "    sd.wait()\n",
    "    recording = recording[fs:,1]\n",
    "    samples.append(recording[find_first_peak(recording, find_threshold(recording)):])\n",
    "print(\"Done :)\")\n"
   ]
  },
  {
   "cell_type": "code",
   "execution_count": 8,
   "metadata": {},
   "outputs": [
    {
     "data": {
      "image/png": "[encoded data removed]",
      "text/plain": [
       "<Figure size 432x288 with 1 Axes>"
      ]
     },
     "metadata": {
      "needs_background": "light"
     },
     "output_type": "display_data"
    }
   ],
   "source": [
    "longest_size = len(max(samples, key=lambda x: len(x)))\n",
    "\n",
    "for i in range(len(samples)):\n",
    "    samples[i] = np.pad(samples[i], (0, longest_size - len(samples[i])))\n",
    "\n",
    "avg_sample = np.average(samples, axis=0)\n",
    "plt.figure()\n",
    "plt.plot(avg_sample)\n",
    "plt.show()"
   ]
  },
  {
   "cell_type": "code",
   "execution_count": 9,
   "metadata": {},
   "outputs": [],
   "source": [
    "thresh = find_threshold(avg_sample)"
   ]
  },
  {
   "cell_type": "code",
   "execution_count": 10,
   "metadata": {},
   "outputs": [
    {
     "data": {
      "text/plain": [
       "0.0625"
      ]
     },
     "execution_count": 10,
     "metadata": {},
     "output_type": "execute_result"
    }
   ],
   "source": [
    "thresh"
   ]
  },
  {
   "cell_type": "code",
   "execution_count": 11,
   "metadata": {},
   "outputs": [
    {
     "data": {
      "image/png": "[encoded data removed]",
      "text/plain": [
       "<Figure size 432x288 with 1 Axes>"
      ]
     },
     "metadata": {
      "needs_background": "light"
     },
     "output_type": "display_data"
    }
   ],
   "source": [
    "trimmed = avg_sample[find_first_peak(avg_sample, thresh):find_last_peak(avg_sample, thresh)]\n",
    "plt.figure()\n",
    "plt.plot(trimmed)\n",
    "plt.show()"
   ]
  },
  {
   "cell_type": "code",
   "execution_count": 12,
   "metadata": {},
   "outputs": [
    {
     "data": {
      "text/plain": [
       "25"
      ]
     },
     "execution_count": 12,
     "metadata": {},
     "output_type": "execute_result"
    }
   ],
   "source": [
    "count_ticks(trimmed, thresh)"
   ]
  },
  {
   "cell_type": "code",
   "execution_count": 22,
   "metadata": {},
   "outputs": [
    {
     "data": {
      "text/plain": [
       "6.259795716795107"
      ]
     },
     "execution_count": 22,
     "metadata": {},
     "output_type": "execute_result"
    }
   ],
   "source": [
    "freq = (count_ticks(trimmed, thresh) - 1) / (len(trimmed)/fs)\n",
    "freq"
   ]
  },
  {
   "cell_type": "code",
   "execution_count": 23,
   "metadata": {},
   "outputs": [
    {
     "data": {
      "text/plain": [
       "3741.0583218495303"
      ]
     },
     "execution_count": 23,
     "metadata": {},
     "output_type": "execute_result"
    }
   ],
   "source": [
    "get_beat_error(freq)"
   ]
  },
  {
   "cell_type": "code",
   "execution_count": null,
   "metadata": {},
   "outputs": [],
   "source": []
  },
  {
   "cell_type": "code",
   "execution_count": 15,
   "metadata": {},
   "outputs": [],
   "source": [
    "from scipy.fftpack import fft"
   ]
  },
  {
   "cell_type": "code",
   "execution_count": 16,
   "metadata": {},
   "outputs": [],
   "source": [
    "watch_recording = trimmed\n",
    "N = len(watch_recording)\n",
    "T = 1/fs\n",
    "time_stamp = np.linspace(0, N/fs, N)\n",
    "yf = fft(watch_recording)\n",
    "xf = np.linspace(0.0, 1.0/(2.0*T), N//2)"
   ]
  },
  {
   "cell_type": "code",
   "execution_count": 17,
   "metadata": {},
   "outputs": [
    {
     "data": {
      "image/png": "[encoded data removed]",
      "text/plain": [
       "<Figure size 432x288 with 1 Axes>"
      ]
     },
     "metadata": {
      "needs_background": "light"
     },
     "output_type": "display_data"
    }
   ],
   "source": [
    "plt.figure()\n",
    "plt.plot(time_stamp, watch_recording)\n",
    "plt.show()"
   ]
  },
  {
   "cell_type": "code",
   "execution_count": 18,
   "metadata": {},
   "outputs": [
    {
     "data": {
      "image/png": "[encoded data removed]",
      "text/plain": [
       "<Figure size 432x288 with 1 Axes>"
      ]
     },
     "metadata": {
      "needs_background": "light"
     },
     "output_type": "display_data"
    }
   ],
   "source": [
    "plt.figure()\n",
    "plt.plot(xf, 2.0/N * np.abs(yf[0:N//2]))\n",
    "plt.xlim(0, 20)\n",
    "plt.show()"
   ]
  },
  {
   "cell_type": "code",
   "execution_count": 19,
   "metadata": {},
   "outputs": [],
   "source": [
    "lower_i = 0\n",
    "upper_i = 0\n",
    "i = 0\n",
    "while xf[i] < 6.3:\n",
    "    if xf[i] < 5.7 and xf[i+1] >= 5.7:\n",
    "        lower_i = i+1\n",
    "    i += 1\n",
    "upper_i = i"
   ]
  },
  {
   "cell_type": "code",
   "execution_count": 20,
   "metadata": {},
   "outputs": [
    {
     "data": {
      "text/plain": [
       "5.738247888523504"
      ]
     },
     "execution_count": 20,
     "metadata": {},
     "output_type": "execute_result"
    }
   ],
   "source": [
    "freq = xf[np.where(max((2.0/N * np.abs(yf[0:N//2]))[lower_i:upper_i]) == (2.0/N * np.abs(yf[0:N//2])))[0][0]]\n",
    "freq"
   ]
  },
  {
   "cell_type": "code",
   "execution_count": 21,
   "metadata": {},
   "outputs": [
    {
     "data": {
      "text/plain": [
       "-3769.230405261551"
      ]
     },
     "execution_count": 21,
     "metadata": {},
     "output_type": "execute_result"
    }
   ],
   "source": [
    "get_beat_error(freq)"
   ]
  },
  {
   "cell_type": "code",
   "execution_count": null,
   "metadata": {},
   "outputs": [],
   "source": []
  }
 ],
 "metadata": {
  "kernelspec": {
   "display_name": "Python 3",
   "language": "python",
   "name": "python3"
  },
  "language_info": {
   "codemirror_mode": {
    "name": "ipython",
    "version": 3
   },
   "file_extension": ".py",
   "mimetype": "text/x-python",
   "name": "python",
   "nbconvert_exporter": "python",
   "pygments_lexer": "ipython3",
   "version": "3.6.9"
  }
 },
 "nbformat": 4,
 "nbformat_minor": 4
}
